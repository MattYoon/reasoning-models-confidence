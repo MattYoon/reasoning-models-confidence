{
 "cells": [
  {
   "cell_type": "code",
   "execution_count": 1,
   "metadata": {},
   "outputs": [],
   "source": [
    "import json\n",
    "import re\n",
    "import pandas as pd\n",
    "from eval.chat_benchmarks.SimpleQA.judge_prompt import JUDGE_PROMPT\n",
    "from openai import OpenAI\n",
    "client = OpenAI()\n",
    "\n",
    "\n",
    "def read_data(path):\n",
    "    data = json.load(open(path))\n",
    "    # data.keys()\n",
    "    data_key = list(data['results'].keys())[0]\n",
    "    data_ = data['results'][data_key]['examples']\n",
    "    df = pd.DataFrame(data_)\n",
    "    return data, df\n"
   ]
  },
  {
   "cell_type": "code",
   "execution_count": 2,
   "metadata": {},
   "outputs": [
    {
     "data": {
      "text/html": [
       "<div>\n",
       "<style scoped>\n",
       "    .dataframe tbody tr th:only-of-type {\n",
       "        vertical-align: middle;\n",
       "    }\n",
       "\n",
       "    .dataframe tbody tr th {\n",
       "        vertical-align: top;\n",
       "    }\n",
       "\n",
       "    .dataframe thead th {\n",
       "        text-align: right;\n",
       "    }\n",
       "</style>\n",
       "<table border=\"1\" class=\"dataframe\">\n",
       "  <thead>\n",
       "    <tr style=\"text-align: right;\">\n",
       "      <th></th>\n",
       "      <th>question</th>\n",
       "      <th>answers</th>\n",
       "      <th>model_think</th>\n",
       "      <th>model_output</th>\n",
       "      <th>model_confidence</th>\n",
       "      <th>grade_letter</th>\n",
       "      <th>correct</th>\n",
       "      <th>not_attempted</th>\n",
       "    </tr>\n",
       "  </thead>\n",
       "  <tbody>\n",
       "    <tr>\n",
       "      <th>0</th>\n",
       "      <td>Who is the author of al capone does my shirts?</td>\n",
       "      <td>['Gennifer Choldenko']</td>\n",
       "      <td>Okay, so I need to figure out who wrote the bo...</td>\n",
       "      <td>\\n\\n**Answer**: Gennifer Choldenko\\n**Confiden...</td>\n",
       "      <td>Better than even</td>\n",
       "      <td>A</td>\n",
       "      <td>1</td>\n",
       "      <td>0</td>\n",
       "    </tr>\n",
       "  </tbody>\n",
       "</table>\n",
       "</div>"
      ],
      "text/plain": [
       "                                         question                 answers  \\\n",
       "0  Who is the author of al capone does my shirts?  ['Gennifer Choldenko']   \n",
       "\n",
       "                                         model_think  \\\n",
       "0  Okay, so I need to figure out who wrote the bo...   \n",
       "\n",
       "                                        model_output  model_confidence  \\\n",
       "0  \\n\\n**Answer**: Gennifer Choldenko\\n**Confiden...  Better than even   \n",
       "\n",
       "  grade_letter  correct  not_attempted  \n",
       "0            A        1              0  "
      ]
     },
     "execution_count": 2,
     "metadata": {},
     "output_type": "execute_result"
    }
   ],
   "source": [
    "path = '/home/dongkeun/ckl_r1/evalchemy/logs/final/nonambigqa_val_1k/confidence_no_trigger/deepseek-ai__DeepSeek-R1-Distill-Qwen-32B/results_2025-04-19T15-40-29.387192.json'\n",
    "data, df = read_data(path)\n",
    "df.head(1)"
   ]
  },
  {
   "cell_type": "code",
   "execution_count": 3,
   "metadata": {},
   "outputs": [],
   "source": [
    "batch = client.batches.retrieve('batch_680d60f68b808190afa308d3e7693fdc')\n",
    "file_id = batch.output_file_id\n",
    "file_response = client.files.content(file_id)\n",
    "# file_response.text"
   ]
  },
  {
   "cell_type": "code",
   "execution_count": 4,
   "metadata": {},
   "outputs": [
    {
     "name": "stdout",
     "output_type": "stream",
     "text": [
      "uncertainty\n"
     ]
    }
   ],
   "source": [
    "metadata_path = '_'.join(batch.metadata['description'].split('_')[1:])\n",
    "assert metadata_path == path, f\"Description mismatch: {batch.metadata['description']} != {path}\"\n",
    "mode = batch.metadata['description'].split('_')[0]\n",
    "print(mode)"
   ]
  },
  {
   "cell_type": "code",
   "execution_count": 5,
   "metadata": {},
   "outputs": [
    {
     "data": {
      "text/html": [
       "<div>\n",
       "<style scoped>\n",
       "    .dataframe tbody tr th:only-of-type {\n",
       "        vertical-align: middle;\n",
       "    }\n",
       "\n",
       "    .dataframe tbody tr th {\n",
       "        vertical-align: top;\n",
       "    }\n",
       "\n",
       "    .dataframe thead th {\n",
       "        text-align: right;\n",
       "    }\n",
       "</style>\n",
       "<table border=\"1\" class=\"dataframe\">\n",
       "  <thead>\n",
       "    <tr style=\"text-align: right;\">\n",
       "      <th></th>\n",
       "      <th>id</th>\n",
       "      <th>custom_id</th>\n",
       "      <th>response</th>\n",
       "      <th>error</th>\n",
       "    </tr>\n",
       "  </thead>\n",
       "  <tbody>\n",
       "    <tr>\n",
       "      <th>0</th>\n",
       "      <td>batch_req_680d66385ad88190a55fee1bc4eb91a2</td>\n",
       "      <td>request-uncertainty_0</td>\n",
       "      <td>{'status_code': 200, 'request_id': 'c7e03e474c...</td>\n",
       "      <td>None</td>\n",
       "    </tr>\n",
       "  </tbody>\n",
       "</table>\n",
       "</div>"
      ],
      "text/plain": [
       "                                           id              custom_id  \\\n",
       "0  batch_req_680d66385ad88190a55fee1bc4eb91a2  request-uncertainty_0   \n",
       "\n",
       "                                            response error  \n",
       "0  {'status_code': 200, 'request_id': 'c7e03e474c...  None  "
      ]
     },
     "execution_count": 5,
     "metadata": {},
     "output_type": "execute_result"
    }
   ],
   "source": [
    "records = [json.loads(line) for line in file_response.text.splitlines() if line.strip()]\n",
    "records_df = pd.DataFrame(records)\n",
    "records_df.head(1)"
   ]
  },
  {
   "cell_type": "code",
   "execution_count": 6,
   "metadata": {},
   "outputs": [
    {
     "data": {
      "text/html": [
       "<div>\n",
       "<style scoped>\n",
       "    .dataframe tbody tr th:only-of-type {\n",
       "        vertical-align: middle;\n",
       "    }\n",
       "\n",
       "    .dataframe tbody tr th {\n",
       "        vertical-align: top;\n",
       "    }\n",
       "\n",
       "    .dataframe thead th {\n",
       "        text-align: right;\n",
       "    }\n",
       "</style>\n",
       "<table border=\"1\" class=\"dataframe\">\n",
       "  <thead>\n",
       "    <tr style=\"text-align: right;\">\n",
       "      <th></th>\n",
       "      <th>id</th>\n",
       "      <th>custom_id</th>\n",
       "      <th>response</th>\n",
       "      <th>error</th>\n",
       "    </tr>\n",
       "  </thead>\n",
       "  <tbody>\n",
       "    <tr>\n",
       "      <th>0</th>\n",
       "      <td>batch_req_680d66385ad88190a55fee1bc4eb91a2</td>\n",
       "      <td>0</td>\n",
       "      <td>{'status_code': 200, 'request_id': 'c7e03e474c...</td>\n",
       "      <td>None</td>\n",
       "    </tr>\n",
       "  </tbody>\n",
       "</table>\n",
       "</div>"
      ],
      "text/plain": [
       "                                           id custom_id  \\\n",
       "0  batch_req_680d66385ad88190a55fee1bc4eb91a2         0   \n",
       "\n",
       "                                            response error  \n",
       "0  {'status_code': 200, 'request_id': 'c7e03e474c...  None  "
      ]
     },
     "execution_count": 6,
     "metadata": {},
     "output_type": "execute_result"
    }
   ],
   "source": [
    "records_df['custom_id'] = records_df['custom_id'].apply(lambda x: x.split(f'request-{mode}_')[1])\n",
    "records_df.head(1)"
   ]
  },
  {
   "cell_type": "code",
   "execution_count": 7,
   "metadata": {},
   "outputs": [
    {
     "data": {
      "text/html": [
       "<div>\n",
       "<style scoped>\n",
       "    .dataframe tbody tr th:only-of-type {\n",
       "        vertical-align: middle;\n",
       "    }\n",
       "\n",
       "    .dataframe tbody tr th {\n",
       "        vertical-align: top;\n",
       "    }\n",
       "\n",
       "    .dataframe thead th {\n",
       "        text-align: right;\n",
       "    }\n",
       "</style>\n",
       "<table border=\"1\" class=\"dataframe\">\n",
       "  <thead>\n",
       "    <tr style=\"text-align: right;\">\n",
       "      <th></th>\n",
       "      <th>custom_id</th>\n",
       "      <th>model_think</th>\n",
       "    </tr>\n",
       "  </thead>\n",
       "  <tbody>\n",
       "    <tr>\n",
       "      <th>0</th>\n",
       "      <td>0</td>\n",
       "      <td>Okay, so I need to figure out who wrote the bo...</td>\n",
       "    </tr>\n",
       "  </tbody>\n",
       "</table>\n",
       "</div>"
      ],
      "text/plain": [
       "  custom_id                                        model_think\n",
       "0         0  Okay, so I need to figure out who wrote the bo..."
      ]
     },
     "execution_count": 7,
     "metadata": {},
     "output_type": "execute_result"
    }
   ],
   "source": [
    "def parse_response(response):\n",
    "    content = response['body']['choices'][0]['message']['content']\n",
    "    return content\n",
    "\n",
    "records_df['model_think'] = records_df['response'].apply(parse_response)\n",
    "records_df = records_df.drop(columns=['response', 'id', 'error'])\n",
    "records_df.head(1)"
   ]
  },
  {
   "cell_type": "code",
   "execution_count": 8,
   "metadata": {},
   "outputs": [
    {
     "data": {
      "text/html": [
       "<div>\n",
       "<style scoped>\n",
       "    .dataframe tbody tr th:only-of-type {\n",
       "        vertical-align: middle;\n",
       "    }\n",
       "\n",
       "    .dataframe tbody tr th {\n",
       "        vertical-align: top;\n",
       "    }\n",
       "\n",
       "    .dataframe thead th {\n",
       "        text-align: right;\n",
       "    }\n",
       "</style>\n",
       "<table border=\"1\" class=\"dataframe\">\n",
       "  <thead>\n",
       "    <tr style=\"text-align: right;\">\n",
       "      <th></th>\n",
       "      <th>model_think</th>\n",
       "    </tr>\n",
       "  </thead>\n",
       "  <tbody>\n",
       "    <tr>\n",
       "      <th>0</th>\n",
       "      <td>Okay, so I need to figure out who wrote the bo...</td>\n",
       "    </tr>\n",
       "  </tbody>\n",
       "</table>\n",
       "</div>"
      ],
      "text/plain": [
       "                                         model_think\n",
       "0  Okay, so I need to figure out who wrote the bo..."
      ]
     },
     "execution_count": 8,
     "metadata": {},
     "output_type": "execute_result"
    }
   ],
   "source": [
    "records_df = records_df.set_index('custom_id')\n",
    "records_df.index.name = None\n",
    "records_df.head(1)"
   ]
  },
  {
   "cell_type": "code",
   "execution_count": 9,
   "metadata": {},
   "outputs": [
    {
     "data": {
      "text/html": [
       "<div>\n",
       "<style scoped>\n",
       "    .dataframe tbody tr th:only-of-type {\n",
       "        vertical-align: middle;\n",
       "    }\n",
       "\n",
       "    .dataframe tbody tr th {\n",
       "        vertical-align: top;\n",
       "    }\n",
       "\n",
       "    .dataframe thead th {\n",
       "        text-align: right;\n",
       "    }\n",
       "</style>\n",
       "<table border=\"1\" class=\"dataframe\">\n",
       "  <thead>\n",
       "    <tr style=\"text-align: right;\">\n",
       "      <th></th>\n",
       "      <th>prompt</th>\n",
       "    </tr>\n",
       "  </thead>\n",
       "  <tbody>\n",
       "    <tr>\n",
       "      <th>0</th>\n",
       "      <td>Okay, so I need to figure out who wrote the bo...</td>\n",
       "    </tr>\n",
       "  </tbody>\n",
       "</table>\n",
       "</div>"
      ],
      "text/plain": [
       "                                              prompt\n",
       "0  Okay, so I need to figure out who wrote the bo..."
      ]
     },
     "execution_count": 9,
     "metadata": {},
     "output_type": "execute_result"
    }
   ],
   "source": [
    "# rename model_think to model_think_original\n",
    "# df = df.rename(columns={'model_think': 'model_think_original'})\n",
    "# df.head(1)\n",
    "records_df = records_df.rename(columns={'model_think': 'prompt'})\n",
    "records_df.head(1)"
   ]
  },
  {
   "cell_type": "code",
   "execution_count": 10,
   "metadata": {},
   "outputs": [
    {
     "name": "stdout",
     "output_type": "stream",
     "text": [
      "int64 RangeIndex(start=0, stop=5, step=1)\n",
      "int64 Index([0, 1, 2, 3, 4], dtype='int64')\n"
     ]
    }
   ],
   "source": [
    "records_df.index = records_df.index.astype(df.index.dtype)\n",
    "print(df.index.dtype, df.index[:5])\n",
    "print(records_df.index.dtype, records_df.index[:5])"
   ]
  },
  {
   "cell_type": "code",
   "execution_count": 11,
   "metadata": {},
   "outputs": [
    {
     "name": "stdout",
     "output_type": "stream",
     "text": [
      "Length: 1000 , 1000\n"
     ]
    },
    {
     "data": {
      "text/html": [
       "<div>\n",
       "<style scoped>\n",
       "    .dataframe tbody tr th:only-of-type {\n",
       "        vertical-align: middle;\n",
       "    }\n",
       "\n",
       "    .dataframe tbody tr th {\n",
       "        vertical-align: top;\n",
       "    }\n",
       "\n",
       "    .dataframe thead th {\n",
       "        text-align: right;\n",
       "    }\n",
       "</style>\n",
       "<table border=\"1\" class=\"dataframe\">\n",
       "  <thead>\n",
       "    <tr style=\"text-align: right;\">\n",
       "      <th></th>\n",
       "      <th>question</th>\n",
       "      <th>answers</th>\n",
       "      <th>model_think</th>\n",
       "      <th>model_output</th>\n",
       "      <th>model_confidence</th>\n",
       "      <th>grade_letter</th>\n",
       "      <th>correct</th>\n",
       "      <th>not_attempted</th>\n",
       "      <th>prompt</th>\n",
       "    </tr>\n",
       "  </thead>\n",
       "  <tbody>\n",
       "    <tr>\n",
       "      <th>0</th>\n",
       "      <td>Who is the author of al capone does my shirts?</td>\n",
       "      <td>['Gennifer Choldenko']</td>\n",
       "      <td>Okay, so I need to figure out who wrote the bo...</td>\n",
       "      <td>\\n\\n**Answer**: Gennifer Choldenko\\n**Confiden...</td>\n",
       "      <td>Better than even</td>\n",
       "      <td>A</td>\n",
       "      <td>1</td>\n",
       "      <td>0</td>\n",
       "      <td>Okay, so I need to figure out who wrote the bo...</td>\n",
       "    </tr>\n",
       "  </tbody>\n",
       "</table>\n",
       "</div>"
      ],
      "text/plain": [
       "                                         question                 answers  \\\n",
       "0  Who is the author of al capone does my shirts?  ['Gennifer Choldenko']   \n",
       "\n",
       "                                         model_think  \\\n",
       "0  Okay, so I need to figure out who wrote the bo...   \n",
       "\n",
       "                                        model_output  model_confidence  \\\n",
       "0  \\n\\n**Answer**: Gennifer Choldenko\\n**Confiden...  Better than even   \n",
       "\n",
       "  grade_letter  correct  not_attempted  \\\n",
       "0            A        1              0   \n",
       "\n",
       "                                              prompt  \n",
       "0  Okay, so I need to figure out who wrote the bo...  "
      ]
     },
     "execution_count": 11,
     "metadata": {},
     "output_type": "execute_result"
    }
   ],
   "source": [
    "print(f\"Length: {len(df)} , {len(records_df)}\")\n",
    "\n",
    "df = df.join(records_df[['prompt']], how='left')\n",
    "df = df.fillna('NOT_ATTEMPTED')\n",
    "df.head(1)"
   ]
  },
  {
   "cell_type": "code",
   "execution_count": 12,
   "metadata": {},
   "outputs": [
    {
     "data": {
      "text/html": [
       "<div>\n",
       "<style scoped>\n",
       "    .dataframe tbody tr th:only-of-type {\n",
       "        vertical-align: middle;\n",
       "    }\n",
       "\n",
       "    .dataframe tbody tr th {\n",
       "        vertical-align: top;\n",
       "    }\n",
       "\n",
       "    .dataframe thead th {\n",
       "        text-align: right;\n",
       "    }\n",
       "</style>\n",
       "<table border=\"1\" class=\"dataframe\">\n",
       "  <thead>\n",
       "    <tr style=\"text-align: right;\">\n",
       "      <th></th>\n",
       "      <th>question</th>\n",
       "      <th>answers</th>\n",
       "      <th>model_think</th>\n",
       "      <th>prompt</th>\n",
       "    </tr>\n",
       "  </thead>\n",
       "  <tbody>\n",
       "    <tr>\n",
       "      <th>0</th>\n",
       "      <td>Who is the author of al capone does my shirts?</td>\n",
       "      <td>['Gennifer Choldenko']</td>\n",
       "      <td>Okay, so I need to figure out who wrote the bo...</td>\n",
       "      <td>Okay, so I need to figure out who wrote the bo...</td>\n",
       "    </tr>\n",
       "  </tbody>\n",
       "</table>\n",
       "</div>"
      ],
      "text/plain": [
       "                                         question                 answers  \\\n",
       "0  Who is the author of al capone does my shirts?  ['Gennifer Choldenko']   \n",
       "\n",
       "                                         model_think  \\\n",
       "0  Okay, so I need to figure out who wrote the bo...   \n",
       "\n",
       "                                              prompt  \n",
       "0  Okay, so I need to figure out who wrote the bo...  "
      ]
     },
     "execution_count": 12,
     "metadata": {},
     "output_type": "execute_result"
    }
   ],
   "source": [
    "# drop model_output, model_confidence, grade_letter, correct, not_attempted\n",
    "df = df.drop(columns=['model_output', 'model_confidence', 'grade_letter', 'correct', 'not_attempted'])\n",
    "df.head(1)"
   ]
  },
  {
   "cell_type": "code",
   "execution_count": 13,
   "metadata": {},
   "outputs": [
    {
     "name": "stderr",
     "output_type": "stream",
     "text": [
      "/home/dongkeun/miniconda3/envs/alchemy-ckl/lib/python3.11/site-packages/tqdm/auto.py:21: TqdmWarning: IProgress not found. Please update jupyter and ipywidgets. See https://ipywidgets.readthedocs.io/en/stable/user_install.html\n",
      "  from .autonotebook import tqdm as notebook_tqdm\n",
      "Creating parquet from Arrow format: 100%|██████████| 1/1 [00:00<00:00, 70.56ba/s]\n",
      "Uploading the dataset shards: 100%|██████████| 1/1 [00:02<00:00,  2.34s/it]\n"
     ]
    },
    {
     "data": {
      "text/plain": [
       "CommitInfo(commit_url='https://huggingface.co/datasets/DKYoon/nonambigqa_val_1k_uncertainty_r1/commit/6c919a9c18adfc001aeb6e6a9835025c3fce9aa8', commit_message='Upload dataset', commit_description='', oid='6c919a9c18adfc001aeb6e6a9835025c3fce9aa8', pr_url=None, repo_url=RepoUrl('https://huggingface.co/datasets/DKYoon/nonambigqa_val_1k_uncertainty_r1', endpoint='https://huggingface.co', repo_type='dataset', repo_id='DKYoon/nonambigqa_val_1k_uncertainty_r1'), pr_revision=None, pr_num=None)"
      ]
     },
     "execution_count": 13,
     "metadata": {},
     "output_type": "execute_result"
    }
   ],
   "source": [
    "from datasets import Dataset\n",
    "\n",
    "ds = Dataset.from_pandas(df)\n",
    "ds.push_to_hub(f'nonambigqa_val_1k_{mode}_r1', split='validation')"
   ]
  },
  {
   "cell_type": "code",
   "execution_count": null,
   "metadata": {},
   "outputs": [],
   "source": []
  }
 ],
 "metadata": {
  "kernelspec": {
   "display_name": "alchemy-ckl",
   "language": "python",
   "name": "python3"
  },
  "language_info": {
   "codemirror_mode": {
    "name": "ipython",
    "version": 3
   },
   "file_extension": ".py",
   "mimetype": "text/x-python",
   "name": "python",
   "nbconvert_exporter": "python",
   "pygments_lexer": "ipython3",
   "version": "3.11.11"
  }
 },
 "nbformat": 4,
 "nbformat_minor": 2
}
